{
 "cells": [
  {
   "cell_type": "markdown",
   "id": "7c80cfe9",
   "metadata": {},
   "source": [
    "# The Sparks Foundation: Prediction using Supervised ML\n",
    "## Predict the percentage of an student based on No. of study hours 🧑‍💻\n",
    "**Author: Rohit Wahwal**"
   ]
  },
  {
   "cell_type": "markdown",
   "id": "b22e4a04",
   "metadata": {},
   "source": [
    "## Importing the Libraries and Dataset\n",
    "Step 1: Importing all the required libraries"
   ]
  },
  {
   "cell_type": "code",
   "execution_count": 8,
   "id": "6f4f1ad3",
   "metadata": {},
   "outputs": [],
   "source": [
    "import pandas as pd\n",
    "import numpy as np\n",
    "import matplotlib.pyplot as plt\n",
    "%matplotlib inline"
   ]
  },
  {
   "cell_type": "markdown",
   "id": "d4ab51c4",
   "metadata": {},
   "source": [
    "Step 2: Importing the [dataset](https://bit.ly/w-data \"Student Scores Dataset\")"
   ]
  },
  {
   "cell_type": "code",
   "execution_count": 9,
   "id": "5bcbf530",
   "metadata": {
    "scrolled": false
   },
   "outputs": [
    {
     "name": "stdout",
     "output_type": "stream",
     "text": [
      "Student scores dataset: \n"
     ]
    },
    {
     "data": {
      "text/html": [
       "<div>\n",
       "<style scoped>\n",
       "    .dataframe tbody tr th:only-of-type {\n",
       "        vertical-align: middle;\n",
       "    }\n",
       "\n",
       "    .dataframe tbody tr th {\n",
       "        vertical-align: top;\n",
       "    }\n",
       "\n",
       "    .dataframe thead th {\n",
       "        text-align: right;\n",
       "    }\n",
       "</style>\n",
       "<table border=\"1\" class=\"dataframe\">\n",
       "  <thead>\n",
       "    <tr style=\"text-align: right;\">\n",
       "      <th></th>\n",
       "      <th>Hours</th>\n",
       "      <th>Scores</th>\n",
       "    </tr>\n",
       "  </thead>\n",
       "  <tbody>\n",
       "    <tr>\n",
       "      <th>0</th>\n",
       "      <td>2.5</td>\n",
       "      <td>21</td>\n",
       "    </tr>\n",
       "    <tr>\n",
       "      <th>1</th>\n",
       "      <td>5.1</td>\n",
       "      <td>47</td>\n",
       "    </tr>\n",
       "    <tr>\n",
       "      <th>2</th>\n",
       "      <td>3.2</td>\n",
       "      <td>27</td>\n",
       "    </tr>\n",
       "    <tr>\n",
       "      <th>3</th>\n",
       "      <td>8.5</td>\n",
       "      <td>75</td>\n",
       "    </tr>\n",
       "    <tr>\n",
       "      <th>4</th>\n",
       "      <td>3.5</td>\n",
       "      <td>30</td>\n",
       "    </tr>\n",
       "    <tr>\n",
       "      <th>5</th>\n",
       "      <td>1.5</td>\n",
       "      <td>20</td>\n",
       "    </tr>\n",
       "    <tr>\n",
       "      <th>6</th>\n",
       "      <td>9.2</td>\n",
       "      <td>88</td>\n",
       "    </tr>\n",
       "    <tr>\n",
       "      <th>7</th>\n",
       "      <td>5.5</td>\n",
       "      <td>60</td>\n",
       "    </tr>\n",
       "    <tr>\n",
       "      <th>8</th>\n",
       "      <td>8.3</td>\n",
       "      <td>81</td>\n",
       "    </tr>\n",
       "    <tr>\n",
       "      <th>9</th>\n",
       "      <td>2.7</td>\n",
       "      <td>25</td>\n",
       "    </tr>\n",
       "    <tr>\n",
       "      <th>10</th>\n",
       "      <td>7.7</td>\n",
       "      <td>85</td>\n",
       "    </tr>\n",
       "    <tr>\n",
       "      <th>11</th>\n",
       "      <td>5.9</td>\n",
       "      <td>62</td>\n",
       "    </tr>\n",
       "    <tr>\n",
       "      <th>12</th>\n",
       "      <td>4.5</td>\n",
       "      <td>41</td>\n",
       "    </tr>\n",
       "    <tr>\n",
       "      <th>13</th>\n",
       "      <td>3.3</td>\n",
       "      <td>42</td>\n",
       "    </tr>\n",
       "    <tr>\n",
       "      <th>14</th>\n",
       "      <td>1.1</td>\n",
       "      <td>17</td>\n",
       "    </tr>\n",
       "  </tbody>\n",
       "</table>\n",
       "</div>"
      ],
      "text/plain": [
       "    Hours  Scores\n",
       "0     2.5      21\n",
       "1     5.1      47\n",
       "2     3.2      27\n",
       "3     8.5      75\n",
       "4     3.5      30\n",
       "5     1.5      20\n",
       "6     9.2      88\n",
       "7     5.5      60\n",
       "8     8.3      81\n",
       "9     2.7      25\n",
       "10    7.7      85\n",
       "11    5.9      62\n",
       "12    4.5      41\n",
       "13    3.3      42\n",
       "14    1.1      17"
      ]
     },
     "execution_count": 9,
     "metadata": {},
     "output_type": "execute_result"
    }
   ],
   "source": [
    "dataset = pd.read_csv(\"student_scores.csv\")\n",
    "print(\"Student scores dataset: \")\n",
    "dataset.head(15)"
   ]
  },
  {
   "cell_type": "markdown",
   "id": "299410b2",
   "metadata": {},
   "source": [
    "Step 3: Checking null value in dataset"
   ]
  },
  {
   "cell_type": "code",
   "execution_count": 10,
   "id": "9f7c3656",
   "metadata": {},
   "outputs": [
    {
     "data": {
      "text/plain": [
       "False"
      ]
     },
     "execution_count": 10,
     "metadata": {},
     "output_type": "execute_result"
    }
   ],
   "source": [
    "dataset.isnull == True"
   ]
  },
  {
   "cell_type": "markdown",
   "id": "839340cc",
   "metadata": {},
   "source": [
    "Step 4: Plotting the graph for detailed analysis 📊"
   ]
  },
  {
   "cell_type": "code",
   "execution_count": 11,
   "id": "c325525c",
   "metadata": {
    "scrolled": false
   },
   "outputs": [
    {
     "data": {
      "image/png": "[encoded data removed]",
      "text/plain": [
       "<Figure size 432x288 with 1 Axes>"
      ]
     },
     "metadata": {
      "needs_background": "light"
     },
     "output_type": "display_data"
    }
   ],
   "source": [
    "dataset.plot.scatter(x='Hours',y='Scores',style='1')\n",
    "plt.title('Hours vs Percentage')  \n",
    "plt.xlabel('Hours Studied')  \n",
    "plt.ylabel('Percentage Score')  \n",
    "plt.show()"
   ]
  },
  {
   "cell_type": "markdown",
   "id": "cd1512bc",
   "metadata": {},
   "source": [
    "## Preparing the Data\n",
    "Step 5: Dividing the data into \"attributes\" (inputs) and \"labels\" (outputs)"
   ]
  },
  {
   "cell_type": "code",
   "execution_count": 12,
   "id": "28dc6e28",
   "metadata": {},
   "outputs": [],
   "source": [
    "x = dataset.iloc[:, :-1].values\n",
    "y = dataset.iloc[:, 1].values\n",
    "#print(x)"
   ]
  },
  {
   "cell_type": "markdown",
   "id": "27610f93",
   "metadata": {},
   "source": [
    "Step 6: Splitting the dataset in Training set and Test set for train_test_split() method"
   ]
  },
  {
   "cell_type": "code",
   "execution_count": 13,
   "id": "7b13a224",
   "metadata": {},
   "outputs": [],
   "source": [
    "from sklearn.model_selection import train_test_split\n",
    "x_train, x_test, y_train, y_test = train_test_split(x, y, train_size = 0.7, random_state = 0)"
   ]
  },
  {
   "cell_type": "markdown",
   "id": "96115da6",
   "metadata": {},
   "source": [
    "## Training the Model\n",
    "Step 7: Fitting Simple Linear Regression to the training set"
   ]
  },
  {
   "cell_type": "code",
   "execution_count": 14,
   "id": "d98c9b71",
   "metadata": {},
   "outputs": [
    {
     "name": "stdout",
     "output_type": "stream",
     "text": [
      "Training Completed!\n"
     ]
    }
   ],
   "source": [
    "from sklearn.linear_model import LinearRegression\n",
    "regressor = LinearRegression()\n",
    "\n",
    "regressor.fit(x_train, y_train)\n",
    "\n",
    "print(\"Training Completed!\")"
   ]
  },
  {
   "cell_type": "markdown",
   "id": "77e64220",
   "metadata": {},
   "source": [
    "Step 8: Plotting the Regression line and for the Test data"
   ]
  },
  {
   "cell_type": "code",
   "execution_count": 15,
   "id": "96f1d554",
   "metadata": {
    "scrolled": true
   },
   "outputs": [
    {
     "data": {
      "image/png": "[encoded data removed]",
      "text/plain": [
       "<Figure size 432x288 with 1 Axes>"
      ]
     },
     "metadata": {
      "needs_background": "light"
     },
     "output_type": "display_data"
    }
   ],
   "source": [
    "regression_line = regressor.coef_*x+regressor.intercept_\n",
    "\n",
    "plt.scatter(x, y)\n",
    "plt.plot(x, regression_line)\n",
    "plt.title('Hours VS Score')\n",
    "plt.xlabel('Hours')\n",
    "plt.ylabel('Score');\n",
    "plt.show()"
   ]
  },
  {
   "cell_type": "markdown",
   "id": "2f371362",
   "metadata": {},
   "source": [
    "## Testing the Model\n",
    "Step 9: Making Predictions "
   ]
  },
  {
   "cell_type": "code",
   "execution_count": 16,
   "id": "edf8dbf5",
   "metadata": {},
   "outputs": [
    {
     "name": "stdout",
     "output_type": "stream",
     "text": [
      "[[1.5]\n",
      " [3.2]\n",
      " [7.4]\n",
      " [2.5]\n",
      " [5.9]\n",
      " [3.8]\n",
      " [1.9]\n",
      " [7.8]]\n",
      "Predection of the Score: \n",
      "[17.05366541 33.69422878 74.80620886 26.8422321  60.12335883 39.56736879\n",
      " 20.96909209 78.72163554]\n"
     ]
    }
   ],
   "source": [
    "print(x_test) \n",
    "print(\"Predection of the Score: \")\n",
    "y_pred = regressor.predict(x_test)\n",
    "print(y_pred)"
   ]
  },
  {
   "cell_type": "markdown",
   "id": "fd12dccf",
   "metadata": {},
   "source": [
    "Step 10: Comparing Actual vs Predicted"
   ]
  },
  {
   "cell_type": "code",
   "execution_count": 17,
   "id": "74e265a3",
   "metadata": {
    "scrolled": true
   },
   "outputs": [
    {
     "data": {
      "text/html": [
       "<div>\n",
       "<style scoped>\n",
       "    .dataframe tbody tr th:only-of-type {\n",
       "        vertical-align: middle;\n",
       "    }\n",
       "\n",
       "    .dataframe tbody tr th {\n",
       "        vertical-align: top;\n",
       "    }\n",
       "\n",
       "    .dataframe thead th {\n",
       "        text-align: right;\n",
       "    }\n",
       "</style>\n",
       "<table border=\"1\" class=\"dataframe\">\n",
       "  <thead>\n",
       "    <tr style=\"text-align: right;\">\n",
       "      <th></th>\n",
       "      <th>Actual Score</th>\n",
       "      <th>Predicted Score</th>\n",
       "    </tr>\n",
       "  </thead>\n",
       "  <tbody>\n",
       "    <tr>\n",
       "      <th>0</th>\n",
       "      <td>20</td>\n",
       "      <td>17.053665</td>\n",
       "    </tr>\n",
       "    <tr>\n",
       "      <th>1</th>\n",
       "      <td>27</td>\n",
       "      <td>33.694229</td>\n",
       "    </tr>\n",
       "    <tr>\n",
       "      <th>2</th>\n",
       "      <td>69</td>\n",
       "      <td>74.806209</td>\n",
       "    </tr>\n",
       "    <tr>\n",
       "      <th>3</th>\n",
       "      <td>30</td>\n",
       "      <td>26.842232</td>\n",
       "    </tr>\n",
       "    <tr>\n",
       "      <th>4</th>\n",
       "      <td>62</td>\n",
       "      <td>60.123359</td>\n",
       "    </tr>\n",
       "    <tr>\n",
       "      <th>5</th>\n",
       "      <td>35</td>\n",
       "      <td>39.567369</td>\n",
       "    </tr>\n",
       "    <tr>\n",
       "      <th>6</th>\n",
       "      <td>24</td>\n",
       "      <td>20.969092</td>\n",
       "    </tr>\n",
       "    <tr>\n",
       "      <th>7</th>\n",
       "      <td>86</td>\n",
       "      <td>78.721636</td>\n",
       "    </tr>\n",
       "  </tbody>\n",
       "</table>\n",
       "</div>"
      ],
      "text/plain": [
       "   Actual Score  Predicted Score\n",
       "0            20        17.053665\n",
       "1            27        33.694229\n",
       "2            69        74.806209\n",
       "3            30        26.842232\n",
       "4            62        60.123359\n",
       "5            35        39.567369\n",
       "6            24        20.969092\n",
       "7            86        78.721636"
      ]
     },
     "execution_count": 17,
     "metadata": {},
     "output_type": "execute_result"
    }
   ],
   "source": [
    "df = pd.DataFrame({'Actual Score': y_test, 'Predicted Score': y_pred})  \n",
    "\n",
    "df"
   ]
  },
  {
   "cell_type": "markdown",
   "id": "071c050f",
   "metadata": {},
   "source": [
    "Step 11: Testing with our Data"
   ]
  },
  {
   "cell_type": "code",
   "execution_count": 18,
   "id": "f16bc3c4",
   "metadata": {
    "scrolled": true
   },
   "outputs": [
    {
     "name": "stdout",
     "output_type": "stream",
     "text": [
      "Number of Hours = 9.25\n",
      "Predicted Score = 92.915\n"
     ]
    }
   ],
   "source": [
    "hours = np.array([9.25])\n",
    "hours = hours.reshape(-1,1)\n",
    "our_pred = regressor.predict(hours)\n",
    "\n",
    "print(\"Number of Hours = {}\".format(float(hours))) \n",
    "print(\"Predicted Score = {}\".format(round(our_pred[0],3)))"
   ]
  },
  {
   "cell_type": "markdown",
   "id": "6fead546",
   "metadata": {},
   "source": [
    "## Checking Accuracy of the Model"
   ]
  },
  {
   "cell_type": "code",
   "execution_count": 19,
   "id": "39f2aec8",
   "metadata": {},
   "outputs": [
    {
     "name": "stdout",
     "output_type": "stream",
     "text": [
      "Mean Absolute Error: 4.419727808027652\n",
      "Root Mean Squared Error: 4.792191274636315\n"
     ]
    }
   ],
   "source": [
    "from sklearn import metrics\n",
    "\n",
    "mae = metrics.mean_absolute_error(y_test,y_pred)\n",
    "print('Mean Absolute Error:', mae)\n",
    "\n",
    "\n",
    "rmse = np.sqrt(metrics.mean_squared_error(y_test, y_pred))\n",
    "print('Root Mean Squared Error:', rmse)"
   ]
  }
 ],
 "metadata": {
  "kernelspec": {
   "display_name": "Python 3 (ipykernel)",
   "language": "python",
   "name": "python3"
  },
  "language_info": {
   "codemirror_mode": {
    "name": "ipython",
    "version": 3
   },
   "file_extension": ".py",
   "mimetype": "text/x-python",
   "name": "python",
   "nbconvert_exporter": "python",
   "pygments_lexer": "ipython3",
   "version": "3.9.6"
  }
 },
 "nbformat": 4,
 "nbformat_minor": 5
}
